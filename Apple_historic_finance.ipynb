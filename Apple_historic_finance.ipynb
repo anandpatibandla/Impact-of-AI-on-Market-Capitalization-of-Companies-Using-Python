{
 "cells": [
  {
   "cell_type": "code",
   "execution_count": 1,
   "id": "83391429-9ebb-4b15-83e3-b0049cb46ea9",
   "metadata": {},
   "outputs": [
    {
     "name": "stdout",
     "output_type": "stream",
     "text": [
      "{'address1': 'One Apple Park Way', 'city': 'Cupertino', 'state': 'CA', 'zip': '95014', 'country': 'United States', 'phone': '408 996 1010', 'website': 'https://www.apple.com', 'industry': 'Consumer Electronics', 'industryKey': 'consumer-electronics', 'industryDisp': 'Consumer Electronics', 'sector': 'Technology', 'sectorKey': 'technology', 'sectorDisp': 'Technology', 'longBusinessSummary': 'Apple Inc. designs, manufactures, and markets smartphones, personal computers, tablets, wearables, and accessories worldwide. The company offers iPhone, a line of smartphones; Mac, a line of personal computers; iPad, a line of multi-purpose tablets; and wearables, home, and accessories comprising AirPods, Apple TV, Apple Watch, Beats products, and HomePod. It also provides AppleCare support and cloud services; and operates various platforms, including the App Store that allow customers to discover and download applications and digital content, such as books, music, video, games, and podcasts. In addition, the company offers various services, such as Apple Arcade, a game subscription service; Apple Fitness+, a personalized fitness service; Apple Music, which offers users a curated listening experience with on-demand radio stations; Apple News+, a subscription news and magazine service; Apple TV+, which offers exclusive original content; Apple Card, a co-branded credit card; and Apple Pay, a cashless payment service, as well as licenses its intellectual property. The company serves consumers, and small and mid-sized businesses; and the education, enterprise, and government markets. It distributes third-party applications for its products through the App Store. The company also sells its products through its retail and online stores, and direct sales force; and third-party cellular network carriers, wholesalers, retailers, and resellers. Apple Inc. was founded in 1976 and is headquartered in Cupertino, California.', 'fullTimeEmployees': 161000, 'companyOfficers': [{'maxAge': 1, 'name': 'Mr. Timothy D. Cook', 'age': 62, 'title': 'CEO & Director', 'yearBorn': 1961, 'fiscalYear': 2023, 'totalPay': 16239562, 'exercisedValue': 0, 'unexercisedValue': 0}, {'maxAge': 1, 'name': 'Mr. Luca  Maestri', 'age': 60, 'title': 'CFO & Senior VP', 'yearBorn': 1963, 'fiscalYear': 2023, 'totalPay': 4612242, 'exercisedValue': 0, 'unexercisedValue': 0}, {'maxAge': 1, 'name': 'Mr. Jeffrey E. Williams', 'age': 59, 'title': 'Chief Operating Officer', 'yearBorn': 1964, 'fiscalYear': 2023, 'totalPay': 4637585, 'exercisedValue': 0, 'unexercisedValue': 0}, {'maxAge': 1, 'name': 'Ms. Katherine L. Adams', 'age': 59, 'title': 'Senior VP, General Counsel & Secretary', 'yearBorn': 1964, 'fiscalYear': 2023, 'totalPay': 4618064, 'exercisedValue': 0, 'unexercisedValue': 0}, {'maxAge': 1, 'name': \"Ms. Deirdre  O'Brien\", 'age': 56, 'title': 'Senior Vice President of Retail', 'yearBorn': 1967, 'fiscalYear': 2023, 'totalPay': 4613369, 'exercisedValue': 0, 'unexercisedValue': 0}, {'maxAge': 1, 'name': 'Mr. Chris  Kondo', 'title': 'Senior Director of Corporate Accounting', 'fiscalYear': 2023, 'exercisedValue': 0, 'unexercisedValue': 0}, {'maxAge': 1, 'name': 'Mr. James  Wilson', 'title': 'Chief Technology Officer', 'fiscalYear': 2023, 'exercisedValue': 0, 'unexercisedValue': 0}, {'maxAge': 1, 'name': 'Suhasini  Chandramouli', 'title': 'Director of Investor Relations', 'fiscalYear': 2023, 'exercisedValue': 0, 'unexercisedValue': 0}, {'maxAge': 1, 'name': 'Mr. Greg  Joswiak', 'title': 'Senior Vice President of Worldwide Marketing', 'fiscalYear': 2023, 'exercisedValue': 0, 'unexercisedValue': 0}, {'maxAge': 1, 'name': 'Mr. Adrian  Perica', 'age': 49, 'title': 'Head of Corporate Development', 'yearBorn': 1974, 'fiscalYear': 2023, 'exercisedValue': 0, 'unexercisedValue': 0}], 'auditRisk': 5, 'boardRisk': 1, 'compensationRisk': 2, 'shareHolderRightsRisk': 1, 'overallRisk': 1, 'governanceEpochDate': 1711929600, 'compensationAsOfEpochDate': 1703980800, 'maxAge': 86400, 'priceHint': 2, 'previousClose': 167.04, 'open': 166.12, 'dayLow': 164.08, 'dayHigh': 166.4, 'regularMarketPreviousClose': 167.04, 'regularMarketOpen': 166.12, 'regularMarketDayLow': 164.08, 'regularMarketDayHigh': 166.4, 'dividendRate': 0.96, 'dividendYield': 0.0057, 'exDividendDate': 1707436800, 'payoutRatio': 0.14770001, 'fiveYearAvgDividendYield': 0.74, 'beta': 1.276, 'trailingPE': 25.660965, 'forwardPE': 23.141655, 'volume': 67326599, 'regularMarketVolume': 67326599, 'averageVolume': 61567136, 'averageVolume10days': 63128880, 'averageDailyVolume10Day': 63128880, 'bid': 164.9, 'ask': 165.05, 'bidSize': 800, 'askSize': 600, 'marketCap': 2547913326592, 'fiftyTwoWeekLow': 162.8, 'fiftyTwoWeekHigh': 199.62, 'priceToSalesTrailing12Months': 6.605843, 'fiftyDayAverage': 175.1372, 'twoHundredDayAverage': 182.1997, 'trailingAnnualDividendRate': 0.95, 'trailingAnnualDividendYield': 0.0056872605, 'currency': 'USD', 'enterpriseValue': 2582850306048, 'profitMargins': 0.26163, 'floatShares': 15414548871, 'sharesOutstanding': 15441899520, 'sharesShort': 108782648, 'sharesShortPriorMonth': 111927679, 'sharesShortPreviousMonthDate': 1709164800, 'dateShortInterest': 1711584000, 'sharesPercentSharesOut': 0.0069999998, 'heldPercentInsiders': 0.059359998, 'heldPercentInstitutions': 0.56673, 'shortRatio': 1.48, 'shortPercentOfFloat': 0.0069999998, 'impliedSharesOutstanding': 15563200512, 'bookValue': 4.793, 'priceToBook': 34.4252, 'lastFiscalYearEnd': 1696032000, 'nextFiscalYearEnd': 1727654400, 'mostRecentQuarter': 1703894400, 'earningsQuarterlyGrowth': 0.131, 'netIncomeToCommon': 100912996352, 'trailingEps': 6.43, 'forwardEps': 7.13, 'pegRatio': 2.32, 'lastSplitFactor': '4:1', 'lastSplitDate': 1598832000, 'enterpriseToRevenue': 6.696, 'enterpriseToEbitda': 19.851, '52WeekChange': -0.0019959807, 'SandP52WeekChange': 0.2006725, 'lastDividendValue': 0.24, 'lastDividendDate': 1707436800, 'exchange': 'NMS', 'quoteType': 'EQUITY', 'symbol': 'AAPL', 'underlyingSymbol': 'AAPL', 'shortName': 'Apple Inc.', 'longName': 'Apple Inc.', 'firstTradeDateEpochUtc': 345479400, 'timeZoneFullName': 'America/New_York', 'timeZoneShortName': 'EDT', 'uuid': '8b10e4ae-9eeb-3684-921a-9ab27e4d87aa', 'messageBoardId': 'finmb_24937', 'gmtOffSetMilliseconds': -14400000, 'currentPrice': 165.0, 'targetHighPrice': 250.0, 'targetLowPrice': 158.0, 'targetMeanPrice': 199.41, 'targetMedianPrice': 200.0, 'recommendationMean': 2.2, 'recommendationKey': 'buy', 'numberOfAnalystOpinions': 39, 'totalCash': 73100001280, 'totalCashPerShare': 4.734, 'ebitda': 130108997632, 'totalDebt': 108040003584, 'quickRatio': 0.92, 'currentRatio': 1.073, 'totalRevenue': 385706000384, 'debtToEquity': 145.803, 'revenuePerShare': 24.648, 'returnOnAssets': 0.21181, 'returnOnEquity': 1.5426899, 'freeCashflow': 86563127296, 'operatingCashflow': 116433002496, 'earningsGrowth': 0.16, 'revenueGrowth': 0.021, 'grossMargins': 0.45027, 'ebitdaMargins': 0.33733, 'operatingMargins': 0.33764, 'financialCurrency': 'USD', 'trailingPegRatio': 2.0562}\n"
     ]
    }
   ],
   "source": [
    "import yfinance as yahooFinance\n",
    " \n",
    "# Here We are getting Apple financial information\n",
    "# We need to pass AAPL as argument for that\n",
    "GetAppleInformation = yahooFinance.Ticker(\"AAPL\")\n",
    " \n",
    "# whole python dictionary is printed here\n",
    "print(GetAppleInformation.info)"
   ]
  },
  {
   "cell_type": "code",
   "execution_count": 2,
   "id": "75908f80-4882-4c74-a1e1-8624c8b35b5e",
   "metadata": {},
   "outputs": [
    {
     "name": "stdout",
     "output_type": "stream",
     "text": [
      "                                 Open        High         Low       Close  \\\n",
      "Date                                                                        \n",
      "1980-12-12 00:00:00-05:00    0.099192    0.099623    0.099192    0.099192   \n",
      "1980-12-15 00:00:00-05:00    0.094448    0.094448    0.094017    0.094017   \n",
      "1980-12-16 00:00:00-05:00    0.087548    0.087548    0.087117    0.087117   \n",
      "1980-12-17 00:00:00-05:00    0.089273    0.089704    0.089273    0.089273   \n",
      "1980-12-18 00:00:00-05:00    0.091861    0.092292    0.091861    0.091861   \n",
      "...                               ...         ...         ...         ...   \n",
      "2024-04-15 00:00:00-04:00  175.360001  176.630005  172.500000  172.690002   \n",
      "2024-04-16 00:00:00-04:00  171.750000  173.759995  168.270004  169.380005   \n",
      "2024-04-17 00:00:00-04:00  169.610001  170.649994  168.000000  168.000000   \n",
      "2024-04-18 00:00:00-04:00  168.029999  168.639999  166.550003  167.039993   \n",
      "2024-04-19 00:00:00-04:00  166.210007  166.399994  164.080002  165.000000   \n",
      "\n",
      "                              Volume  Dividends  Stock Splits  \n",
      "Date                                                           \n",
      "1980-12-12 00:00:00-05:00  469033600        0.0           0.0  \n",
      "1980-12-15 00:00:00-05:00  175884800        0.0           0.0  \n",
      "1980-12-16 00:00:00-05:00  105728000        0.0           0.0  \n",
      "1980-12-17 00:00:00-05:00   86441600        0.0           0.0  \n",
      "1980-12-18 00:00:00-05:00   73449600        0.0           0.0  \n",
      "...                              ...        ...           ...  \n",
      "2024-04-15 00:00:00-04:00   73531800        0.0           0.0  \n",
      "2024-04-16 00:00:00-04:00   73711200        0.0           0.0  \n",
      "2024-04-17 00:00:00-04:00   50901200        0.0           0.0  \n",
      "2024-04-18 00:00:00-04:00   43122900        0.0           0.0  \n",
      "2024-04-19 00:00:00-04:00   67772100        0.0           0.0  \n",
      "\n",
      "[10929 rows x 7 columns]\n"
     ]
    }
   ],
   "source": [
    "import yfinance as yahooFinance\n",
    "\n",
    "GetAppleInformation = yahooFinance.Ticker(\"AAPL\")\n",
    "\n",
    "# Let us get historical stock prices for apple \n",
    "# covering the past few years.\n",
    "# max->maximum number of daily prices available \n",
    "# for apple.\n",
    "# Valid options are 1d, 5d, 1mo, 3mo, 6mo, 1y, 2y, \n",
    "# 5y, 10y and ytd.\n",
    "print(GetAppleInformation.history(period=\"max\"))\n"
   ]
  },
  {
   "cell_type": "code",
   "execution_count": 51,
   "id": "b6bd08cb-957d-496c-8966-4d82dc83ca0c",
   "metadata": {},
   "outputs": [
    {
     "name": "stdout",
     "output_type": "stream",
     "text": [
      "                                 Open        High         Low       Close  \\\n",
      "Date                                                                        \n",
      "2023-10-16 00:00:00-04:00  176.292483  178.616454  176.053099  178.257385   \n",
      "2023-10-17 00:00:00-04:00  176.192746  177.958169  174.347544  176.691452   \n",
      "2023-10-18 00:00:00-04:00  175.125520  177.120343  174.656736  175.384842   \n",
      "2023-10-19 00:00:00-04:00  175.584329  177.379673  174.736539  175.005844   \n",
      "2023-10-20 00:00:00-04:00  174.856213  174.965929  172.193126  172.432510   \n",
      "...                               ...         ...         ...         ...   \n",
      "2024-04-09 00:00:00-04:00  168.699997  170.080002  168.350006  169.669998   \n",
      "2024-04-10 00:00:00-04:00  168.800003  169.089996  167.110001  167.779999   \n",
      "2024-04-11 00:00:00-04:00  168.339996  175.460007  168.160004  175.039993   \n",
      "2024-04-12 00:00:00-04:00  174.259995  178.360001  174.210007  176.550003   \n",
      "2024-04-15 00:00:00-04:00  175.380005  176.630005  173.850006  175.160004   \n",
      "\n",
      "                              Volume  Dividends  Stock Splits  \n",
      "Date                                                           \n",
      "2023-10-16 00:00:00-04:00   52517000        0.0           0.0  \n",
      "2023-10-17 00:00:00-04:00   57549400        0.0           0.0  \n",
      "2023-10-18 00:00:00-04:00   54764400        0.0           0.0  \n",
      "2023-10-19 00:00:00-04:00   59302900        0.0           0.0  \n",
      "2023-10-20 00:00:00-04:00   64189300        0.0           0.0  \n",
      "...                              ...        ...           ...  \n",
      "2024-04-09 00:00:00-04:00   42451200        0.0           0.0  \n",
      "2024-04-10 00:00:00-04:00   49709300        0.0           0.0  \n",
      "2024-04-11 00:00:00-04:00   91070300        0.0           0.0  \n",
      "2024-04-12 00:00:00-04:00  101593300        0.0           0.0  \n",
      "2024-04-15 00:00:00-04:00   33317190        0.0           0.0  \n",
      "\n",
      "[125 rows x 7 columns]\n"
     ]
    }
   ],
   "source": [
    "import yfinance as yahooFinance\n",
    "\n",
    "GetAppleInformation = yahooFinance.Ticker(\"AAPL\")\n",
    "\n",
    "# Valid options are 1d, 5d, 1mo, 3mo, 6mo, 1y,\n",
    "# 2y, 5y, 10y and ytd.\n",
    "print(GetAppleInformation.history(period=\"6mo\"))\n"
   ]
  },
  {
   "cell_type": "code",
   "execution_count": 52,
   "id": "5632bf36-6e55-439f-ac5e-7e7ce2d3181f",
   "metadata": {},
   "outputs": [],
   "source": [
    "import yfinance as yahooFinance\n",
    "\n",
    "# in order to specify start date and \n",
    "# end date we need datetime package\n",
    "import datetime\n",
    "\n",
    "# startDate , as per our convenience we can modify\n",
    "startDate = datetime.datetime(2021, 10, 16)\n",
    "\n",
    "# endDate , as per our convenience we can modify\n",
    "endDate = datetime.datetime(2024, 4, 12)\n",
    "GetAppleInformation = yahooFinance.Ticker(\"AAPL\")\n",
    "\n",
    "# pass the parameters as the taken dates for start and end\n",
    "apple=GetAppleInformation.history(start=startDate, \n",
    "\t\t\t\t\t\t\t\t\tend=endDate)\n"
   ]
  },
  {
   "cell_type": "code",
   "execution_count": 53,
   "id": "30898f39-7901-43b8-bdf6-9050d8f301ac",
   "metadata": {},
   "outputs": [
    {
     "name": "stdout",
     "output_type": "stream",
     "text": [
      "                                 Open        High         Low       Close  \\\n",
      "Date                                                                        \n",
      "2021-10-18 00:00:00-04:00  141.442313  144.784867  141.156378  144.498932   \n",
      "2021-10-19 00:00:00-04:00  144.952501  147.082274  144.498948  146.678009   \n",
      "2021-10-20 00:00:00-04:00  146.618860  147.654168  146.046976  147.171021   \n",
      "2021-10-21 00:00:00-04:00  146.727303  147.545688  145.800457  147.387924   \n",
      "2021-10-22 00:00:00-04:00  147.594998  148.078130  146.559690  146.608994   \n",
      "...                               ...         ...         ...         ...   \n",
      "2024-04-05 00:00:00-04:00  169.589996  170.389999  168.949997  169.580002   \n",
      "2024-04-08 00:00:00-04:00  169.029999  169.199997  168.240005  168.449997   \n",
      "2024-04-09 00:00:00-04:00  168.699997  170.080002  168.350006  169.669998   \n",
      "2024-04-10 00:00:00-04:00  168.800003  169.089996  167.110001  167.779999   \n",
      "2024-04-11 00:00:00-04:00  168.339996  175.460007  168.160004  175.039993   \n",
      "\n",
      "                             Volume  Dividends  Stock Splits  \n",
      "Date                                                          \n",
      "2021-10-18 00:00:00-04:00  85589200        0.0           0.0  \n",
      "2021-10-19 00:00:00-04:00  76378900        0.0           0.0  \n",
      "2021-10-20 00:00:00-04:00  58418800        0.0           0.0  \n",
      "2021-10-21 00:00:00-04:00  61421000        0.0           0.0  \n",
      "2021-10-22 00:00:00-04:00  58883400        0.0           0.0  \n",
      "...                             ...        ...           ...  \n",
      "2024-04-05 00:00:00-04:00  42055200        0.0           0.0  \n",
      "2024-04-08 00:00:00-04:00  37425500        0.0           0.0  \n",
      "2024-04-09 00:00:00-04:00  42451200        0.0           0.0  \n",
      "2024-04-10 00:00:00-04:00  49709300        0.0           0.0  \n",
      "2024-04-11 00:00:00-04:00  91070300        0.0           0.0  \n",
      "\n",
      "[624 rows x 7 columns]\n"
     ]
    }
   ],
   "source": [
    "print(apple)"
   ]
  },
  {
   "cell_type": "code",
   "execution_count": 54,
   "id": "3c49aa0c-cf19-4425-974a-8539db9487e8",
   "metadata": {},
   "outputs": [],
   "source": [
    "apple.to_csv('apple.csv')"
   ]
  },
  {
   "cell_type": "code",
   "execution_count": 55,
   "id": "9f307c1d-7c00-4931-b10b-8e566c6eaa2b",
   "metadata": {},
   "outputs": [
    {
     "name": "stdout",
     "output_type": "stream",
     "text": [
      "                                 Open        High         Low       Close  \\\n",
      "Date                                                                        \n",
      "2021-10-18 00:00:00-04:00  141.442313  144.784867  141.156378  144.498932   \n",
      "\n",
      "                             Volume  Dividends  Stock Splits  \n",
      "Date                                                          \n",
      "2021-10-18 00:00:00-04:00  85589200        0.0           0.0  \n"
     ]
    }
   ],
   "source": [
    "print(apple.head(1))"
   ]
  },
  {
   "cell_type": "code",
   "execution_count": 56,
   "id": "82129301-92b7-4799-9f0f-c5d3bf0f0805",
   "metadata": {},
   "outputs": [],
   "source": [
    "apple.reset_index(inplace=True)"
   ]
  },
  {
   "cell_type": "code",
   "execution_count": 57,
   "id": "31e1ac1b-596b-47e6-bf1d-a9bf3f333d85",
   "metadata": {},
   "outputs": [
    {
     "data": {
      "text/html": [
       "<div>\n",
       "<style scoped>\n",
       "    .dataframe tbody tr th:only-of-type {\n",
       "        vertical-align: middle;\n",
       "    }\n",
       "\n",
       "    .dataframe tbody tr th {\n",
       "        vertical-align: top;\n",
       "    }\n",
       "\n",
       "    .dataframe thead th {\n",
       "        text-align: right;\n",
       "    }\n",
       "</style>\n",
       "<table border=\"1\" class=\"dataframe\">\n",
       "  <thead>\n",
       "    <tr style=\"text-align: right;\">\n",
       "      <th></th>\n",
       "      <th>Date</th>\n",
       "      <th>Open</th>\n",
       "      <th>High</th>\n",
       "      <th>Low</th>\n",
       "      <th>Close</th>\n",
       "      <th>Volume</th>\n",
       "      <th>Dividends</th>\n",
       "      <th>Stock Splits</th>\n",
       "    </tr>\n",
       "  </thead>\n",
       "  <tbody>\n",
       "    <tr>\n",
       "      <th>0</th>\n",
       "      <td>2021-10-18 00:00:00-04:00</td>\n",
       "      <td>141.442313</td>\n",
       "      <td>144.784867</td>\n",
       "      <td>141.156378</td>\n",
       "      <td>144.498932</td>\n",
       "      <td>85589200</td>\n",
       "      <td>0.0</td>\n",
       "      <td>0.0</td>\n",
       "    </tr>\n",
       "    <tr>\n",
       "      <th>1</th>\n",
       "      <td>2021-10-19 00:00:00-04:00</td>\n",
       "      <td>144.952501</td>\n",
       "      <td>147.082274</td>\n",
       "      <td>144.498948</td>\n",
       "      <td>146.678009</td>\n",
       "      <td>76378900</td>\n",
       "      <td>0.0</td>\n",
       "      <td>0.0</td>\n",
       "    </tr>\n",
       "    <tr>\n",
       "      <th>2</th>\n",
       "      <td>2021-10-20 00:00:00-04:00</td>\n",
       "      <td>146.618860</td>\n",
       "      <td>147.654168</td>\n",
       "      <td>146.046976</td>\n",
       "      <td>147.171021</td>\n",
       "      <td>58418800</td>\n",
       "      <td>0.0</td>\n",
       "      <td>0.0</td>\n",
       "    </tr>\n",
       "    <tr>\n",
       "      <th>3</th>\n",
       "      <td>2021-10-21 00:00:00-04:00</td>\n",
       "      <td>146.727303</td>\n",
       "      <td>147.545688</td>\n",
       "      <td>145.800457</td>\n",
       "      <td>147.387924</td>\n",
       "      <td>61421000</td>\n",
       "      <td>0.0</td>\n",
       "      <td>0.0</td>\n",
       "    </tr>\n",
       "    <tr>\n",
       "      <th>4</th>\n",
       "      <td>2021-10-22 00:00:00-04:00</td>\n",
       "      <td>147.594998</td>\n",
       "      <td>148.078130</td>\n",
       "      <td>146.559690</td>\n",
       "      <td>146.608994</td>\n",
       "      <td>58883400</td>\n",
       "      <td>0.0</td>\n",
       "      <td>0.0</td>\n",
       "    </tr>\n",
       "  </tbody>\n",
       "</table>\n",
       "</div>"
      ],
      "text/plain": [
       "                       Date        Open        High         Low       Close  \\\n",
       "0 2021-10-18 00:00:00-04:00  141.442313  144.784867  141.156378  144.498932   \n",
       "1 2021-10-19 00:00:00-04:00  144.952501  147.082274  144.498948  146.678009   \n",
       "2 2021-10-20 00:00:00-04:00  146.618860  147.654168  146.046976  147.171021   \n",
       "3 2021-10-21 00:00:00-04:00  146.727303  147.545688  145.800457  147.387924   \n",
       "4 2021-10-22 00:00:00-04:00  147.594998  148.078130  146.559690  146.608994   \n",
       "\n",
       "     Volume  Dividends  Stock Splits  \n",
       "0  85589200        0.0           0.0  \n",
       "1  76378900        0.0           0.0  \n",
       "2  58418800        0.0           0.0  \n",
       "3  61421000        0.0           0.0  \n",
       "4  58883400        0.0           0.0  "
      ]
     },
     "execution_count": 57,
     "metadata": {},
     "output_type": "execute_result"
    }
   ],
   "source": [
    "apple.head()"
   ]
  },
  {
   "cell_type": "code",
   "execution_count": 58,
   "id": "b37cd764-2c9a-4c67-a42a-aba1d49ccd61",
   "metadata": {},
   "outputs": [],
   "source": [
    "import pandas as pd\n",
    "\n",
    "# Read data from CSV file\n",
    "csv_data = pd.read_csv('apple.csv')\n",
    "\n",
    "# Write data to Excel file\n",
    "csv_data.to_excel('HistoricFinance.xlsx', index=False)"
   ]
  },
  {
   "cell_type": "code",
   "execution_count": null,
   "id": "dab0c4f9-20ce-4e9f-ad06-b46ba357b8bf",
   "metadata": {},
   "outputs": [],
   "source": []
  }
 ],
 "metadata": {
  "kernelspec": {
   "display_name": "Python 3 (ipykernel)",
   "language": "python",
   "name": "python3"
  },
  "language_info": {
   "codemirror_mode": {
    "name": "ipython",
    "version": 3
   },
   "file_extension": ".py",
   "mimetype": "text/x-python",
   "name": "python",
   "nbconvert_exporter": "python",
   "pygments_lexer": "ipython3",
   "version": "3.11.7"
  }
 },
 "nbformat": 4,
 "nbformat_minor": 5
}

{
 "cells": [
  {
   "cell_type": "code",
   "execution_count": 2,
   "id": "64d093fa-924c-4d53-8205-39631be6635b",
   "metadata": {},
   "outputs": [
    {
     "name": "stdout",
     "output_type": "stream",
     "text": [
      "['.ipynb_checkpoints', 'AAPL Sentiment Analysis.ipynb', 'AAPL- Total Analysis.ipynb', 'APPLE - Model Development  (2) (1).ipynb', 'APPLE DATA PChange_csv.csv', 'Apple-P Change.ipynb', 'Apple_historic_finance.ipynb', 'Historic Finance of APPLE.xlsx', 'Sentiment Analysis APPLE DATA.xlsx']\n",
      "                                         ARTICLE NAME DATE PUBLISHED  \\\n",
      "0   Apple to expand repair options with support fo...     04-11-2024   \n",
      "1   Apple Vision Pro unlocks new opportunities for...     03-11-2024   \n",
      "2   Apple unveils 2024 Black Unity Collection supp...     17-01-2024   \n",
      "3   Apple previews new entertainment experiences l...     16-01-2024   \n",
      "4   Apple unveils the new MacBook Pro featuring th...     30-10-2023   \n",
      "5   Apple Watch double tap gesture now available w...     25-10-2023   \n",
      "6                   Apple unveils Apple Watch Ultra 2     09-12-2023   \n",
      "7   Apple Card’s Savings account by Goldman Sachs ...     08-02-2023   \n",
      "8   Pixar, Adobe, Apple, Autodesk, and NVIDIA form...     08-01-2023   \n",
      "9     iOS 17 makes iPhone more personal and intuitive     06-05-2023   \n",
      "10                          Apple introduces M2 Ultra     06-05-2023   \n",
      "11  Apple and Major League Baseball announce July ...     06-01-2023   \n",
      "12  Apple Fitness+ celebrates Pride with a new Art...     25-06-2023   \n",
      "13      Final Cut Pro and Logic Pro for iPad are here     23-05-2023   \n",
      "14       Apple launches Apple Store online in Vietnam     17-05-2023   \n",
      "15   Apple brings Final Cut Pro and Logic Pro to iPad     05-09-2023   \n",
      "16  Apple MixC Shenzhen opens Friday, April 28, in...     26-04-2023   \n",
      "17                  Apple Saket now open in New Delhi     20-04-2023   \n",
      "18  Apple BKC opens April 18 and Apple Saket opens...     04-10-2023   \n",
      "19  Apple invites Ted Lasso fans to “believe” with...     03-08-2023   \n",
      "20  With Apple Watch, researchers explore new fron...     21-02-2023   \n",
      "21  MLS Season Pass is now available worldwide on ...     02-01-2023   \n",
      "22  Emergency SOS via satellite on iPhone 14 and i...     11-10-2022   \n",
      "23  Seven App Store creators share their tips for ...     11-02-2022   \n",
      "24  Apple Learning Coach now open to more teachers...     26-10-2022   \n",
      "25                       iPadOS 16 is available today     24-10-2022   \n",
      "26  Apple unveils completely redesigned iPad in fo...     18-10-2022   \n",
      "27  Apple Card will soon let users grow Daily Cash...     13-10-2022   \n",
      "28          iPhone 14 Plus available in stores Friday     10-06-2022   \n",
      "29  iPad Pro is revolutionizing how archaeologists...     27-09-2022   \n",
      "30  Apple’s global phenomenon “Ted Lasso” joins ra...     13-09-2022   \n",
      "31                       watchOS 9 is available today     09-12-2022   \n",
      "32  Apple reveals Apple Watch Series 8 and the new...     09-07-2022   \n",
      "33  Apple propels environmental business solutions...     25-08-2022   \n",
      "34  Apple and Major League Baseball announce Septe...     08-04-2022   \n",
      "35  Apple Brompton Road celebrates creativity with...     26-07-2022   \n",
      "36              Apple introduces Apple Music Sessions     15-07-2022   \n",
      "37  Apple invites families to create and learn at ...     15-06-2022   \n",
      "38  Apple and Major League Soccer to present all M...     14-06-2022   \n",
      "39  Apple announces winners of the 2022 Apple Desi...     06-06-2022   \n",
      "40  Apple unveils all-new MacBook Air, supercharge...     06-06-2022   \n",
      "41  Apple provides developers with even more power...     06-06-2022   \n",
      "42  Apple introduces new professional training to ...     18-05-2022   \n",
      "43  Apple Fitness+ gives users “Permission to Danc...     21-04-2022   \n",
      "44  Report finds third-party apps see global succe...     04-07-2022   \n",
      "45  Apple Business Essentials now available for sm...     31-03-2022   \n",
      "46  Apple launches $50 million Supplier Employee D...     30-03-2022   \n",
      "47  Apple’s $4.7B in Green Bonds support innovativ...     24-03-2022   \n",
      "48  Apple unveils all-new Mac Studio and Studio Di...     03-08-2022   \n",
      "49  Introducing M1 Pro and M1 Max: the most powerf...     18-10-2021   \n",
      "\n",
      "                         Date  POSITIVE   NEGATIVE  \\\n",
      "0   2024-04-11 00:00:00-04:00      0.10       0.04   \n",
      "1   2024-03-11 00:00:00-04:00      0.20       0.01   \n",
      "2   2024-01-17 00:00:00-05:00      0.14       0.01   \n",
      "3   2024-01-16 00:00:00-05:00      0.12       0.01   \n",
      "4   2023-10-30 00:00:00-04:00      0.12       0.01   \n",
      "5   2023-10-25 00:00:00-04:00      0.07       0.02   \n",
      "6   2023-09-12 00:00:00-04:00      0.11       0.02   \n",
      "7   2023-08-02 00:00:00-04:00      0.12       0.02   \n",
      "8   2023-08-01 00:00:00-04:00      0.13       0.00   \n",
      "9   2023-06-05 00:00:00-04:00      0.15       0.02   \n",
      "10  2023-06-05 00:00:00-04:00      0.10       0.01   \n",
      "11  2023-06-01 00:00:00-04:00      0.07       0.01   \n",
      "12  2023-05-25 00:00:00-04:00      0.12       0.01   \n",
      "13  2023-05-23 00:00:00-04:00      0.10       0.04   \n",
      "14  2023-05-17 00:00:00-04:00      0.17       0.01   \n",
      "15  2023-05-09 00:00:00-04:00      0.10       0.03   \n",
      "16  2023-04-26 00:00:00-04:00      0.16       0.00   \n",
      "17  2023-04-20 00:00:00-04:00      0.08       0.00   \n",
      "18  2023-04-10 00:00:00-04:00      0.09       0.01   \n",
      "19  2023-03-08 00:00:00-05:00      0.14       0.01   \n",
      "20  2023-02-21 00:00:00-05:00      0.09       0.04   \n",
      "21  2023-02-01 00:00:00-05:00      0.14       0.00   \n",
      "22  2022-11-10 00:00:00-05:00      0.08       0.07   \n",
      "23  2022-11-02 00:00:00-04:00      0.15       0.01   \n",
      "24  2022-10-26 00:00:00-04:00      0.15       0.01   \n",
      "25  2022-10-24 00:00:00-04:00      0.12       0.01   \n",
      "26  2022-10-18 00:00:00-04:00      0.12       0.01   \n",
      "27  2022-10-13 00:00:00-04:00      0.12       0.03   \n",
      "28  2022-10-06 00:00:00-04:00      0.11       0.03   \n",
      "29  2022-09-27 00:00:00-04:00      0.05       0.01   \n",
      "30  2022-09-13 00:00:00-04:00      0.20       0.01   \n",
      "31  2022-09-12 00:00:00-04:00      0.06       0.01   \n",
      "32  2022-09-07 00:00:00-04:00      0.70       0.02   \n",
      "33  2022-08-25 00:00:00-04:00      0.20       0.02   \n",
      "34  2022-08-04 00:00:00-04:00      0.09       0.00   \n",
      "35  2022-07-26 00:00:00-04:00      0.15       0.01   \n",
      "36  2022-07-15 00:00:00-04:00      0.17       0.00   \n",
      "37  2022-06-15 00:00:00-04:00      0.16       0.00   \n",
      "38  2022-06-14 00:00:00-04:00      0.12       0.02   \n",
      "39  2022-06-06 00:00:00-04:00      0.21       0.03   \n",
      "40  2022-06-06 00:00:00-04:00      0.11       0.01   \n",
      "41  2022-06-06 00:00:00-04:00      0.16       0.00   \n",
      "42  2022-05-18 00:00:00-04:00      0.14       0.01   \n",
      "43  2022-04-21 00:00:00-04:00      0.13       0.00   \n",
      "44  2022-04-07 00:00:00-04:00      0.14       0.01   \n",
      "45  2022-03-31 00:00:00-04:00      0.11       0.00   \n",
      "46  2022-03-30 00:00:00-04:00      0.14       0.00   \n",
      "47  2022-03-24 00:00:00-04:00      0.09       0.00   \n",
      "48  2022-03-08 00:00:00-05:00      0.10       0.01   \n",
      "49  2021-10-18 00:00:00-04:00      0.11       0.01   \n",
      "\n",
      "    SENTIMENTAL ANALYSIS NEUTRAL Overall Sentiment  Percentage    Amount  \\\n",
      "0                           0.86           Positive      0.86%  1.510010   \n",
      "1                           0.79           Positive      0.28%  0.479996   \n",
      "2                           0.85           Positive      3.26%  5.942429   \n",
      "3                           0.87           Positive     -0.52% -0.948792   \n",
      "4                           0.86           Positive      0.28%  0.478775   \n",
      "5                           0.91           Positive     -2.46% -4.199112   \n",
      "6                           0.88           Positive     -1.19% -2.084595   \n",
      "7                           0.86           Positive     -0.73% -1.404465   \n",
      "8                           0.86           Positive     -1.55% -3.018082   \n",
      "9                           0.83           Positive     -0.21% -0.368530   \n",
      "10                          0.89           Positive     -0.21% -0.368530   \n",
      "11                          0.92           Positive      0.48%  0.856613   \n",
      "12                          0.88           Positive      1.41%  2.430389   \n",
      "13                          0.86           Positive      0.16%  0.278885   \n",
      "14                          0.83           Positive      1.37%  2.350708   \n",
      "15                          0.87           Positive      1.04%  1.780487   \n",
      "16                          0.04           Positive      2.84%  4.625305   \n",
      "17                          0.92           Positive     -0.98% -1.621338   \n",
      "18                          0.90           Positive     -0.76% -1.223465   \n",
      "19                          0.85           Positive     -1.49% -2.267899   \n",
      "20                          0.87           Positive      0.29%  0.427719   \n",
      "21                          0.86           Positive      3.71%  5.353226   \n",
      "22                          0.85           Positive      1.93%  2.810715   \n",
      "23                          0.84           Positive     -4.24% -6.097855   \n",
      "24                          0.84           Positive     -3.05% -4.511490   \n",
      "25                          0.86           Positive      1.93%  2.865524   \n",
      "26                          0.88           Positive      0.08%  0.109070   \n",
      "27                          0.05           Positive     -3.22% -4.570953   \n",
      "28                          0.86           Positive     -3.67% -5.294769   \n",
      "29                          0.94           Positive     -1.27% -1.903732   \n",
      "30                          0.79           Positive      0.96%  1.457535   \n",
      "31                          0.93           Positive     -5.87% -9.508774   \n",
      "32                          0.91           Positive     -0.96% -1.487274   \n",
      "33                          0.78           Positive     -3.77% -6.355713   \n",
      "34                          0.91           Positive     -0.14% -0.228073   \n",
      "35                          0.84           Positive      3.42%  5.138840   \n",
      "36                          0.83           Positive     -2.06% -3.069473   \n",
      "37                          0.84           Positive     -3.97% -5.317108   \n",
      "38                          0.86           Positive      2.01%  2.643723   \n",
      "39                          0.76           Positive      1.76%  2.544693   \n",
      "40                          0.89           Positive      1.76%  2.544693   \n",
      "41                          0.84           Positive      1.76%  2.544693   \n",
      "42                          0.86           Positive     -2.46% -3.435822   \n",
      "43                          0.87           Positive     -2.78% -4.577682   \n",
      "44                          0.85           Positive     -1.19% -2.026825   \n",
      "45                          0.89           Positive     -0.17% -0.296600   \n",
      "46                          0.86           Positive     -1.78% -3.124283   \n",
      "47                          0.90           Positive      0.37%  0.642639   \n",
      "48                          0.89           Positive      3.50%  5.447708   \n",
      "49                          0.89           Positive      1.51%  2.179031   \n",
      "\n",
      "    Unnamed: 9        Open        High         Low       Close  \n",
      "0          NaN  168.339996  175.460007  168.160004  175.039993  \n",
      "1          NaN  172.940002  174.380005  172.050003  172.750000  \n",
      "2          NaN  181.038998  182.696871  180.070233  182.447189  \n",
      "3          NaN  181.927853  184.025168  180.699410  183.395981  \n",
      "4          NaN  168.582496  170.726924  168.432875  169.849197  \n",
      "5          NaN  171.435115  172.612053  170.208288  170.657135  \n",
      "6          NaN  179.025404  179.663747  174.367494  175.843658  \n",
      "7          NaN  194.272810  194.412258  191.095370  191.822495  \n",
      "8          NaN  195.468088  195.956151  194.511857  194.840561  \n",
      "9          NaN  181.911617  184.222483  177.339661  178.873612  \n",
      "10         NaN  181.911617  184.222483  177.339661  178.873612  \n",
      "11         NaN  177.001009  179.411488  176.234033  179.381607  \n",
      "12         NaN  171.731819  173.215949  171.014650  172.309540  \n",
      "13         NaN  172.449009  172.698026  170.606280  170.885178  \n",
      "14         NaN  171.034586  172.249773  169.749652  172.010727  \n",
      "15         NaN  172.131220  172.618608  170.688921  170.858017  \n",
      "16         NaN  162.194253  164.402468  161.935639  162.890533  \n",
      "17         NaN  165.208189  166.978737  164.681004  165.765213  \n",
      "18         NaN  160.562962  161.169724  159.230080  161.169724  \n",
      "19         NaN  151.998686  152.655185  151.023893  152.058365  \n",
      "20         NaN  149.402535  150.496701  147.622045  147.691666  \n",
      "21         NaN  142.987291  145.609270  140.355386  144.437317  \n",
      "22         NaN  140.275932  145.867493  138.547803  145.867493  \n",
      "23         NaN  147.688292  150.881017  143.771754  143.801498  \n",
      "24         NaN  149.681294  150.702568  146.786014  148.084930  \n",
      "25         NaN  145.943231  148.957474  144.763308  148.184082  \n",
      "26         NaN  144.257646  145.457388  139.418977  142.532379  \n",
      "27         NaN  133.846573  142.373717  133.231814  141.778809  \n",
      "28         NaN  144.574906  146.290248  143.989907  144.198120  \n",
      "29         NaN  151.446212  153.409436  148.679837  150.474503  \n",
      "30         NaN  158.545546  159.180125  152.070861  152.536880  \n",
      "31         NaN  158.238185  162.868626  157.950648  162.045654  \n",
      "32         NaN  153.508588  155.342909  152.308831  154.638931  \n",
      "33         NaN  167.350325  168.698806  166.923975  168.589737  \n",
      "34         NaN  164.375472  165.543862  162.811027  164.177445  \n",
      "35         NaN  150.760851  151.582681  149.315235  150.107361  \n",
      "36         NaN  148.305293  149.374661  146.740847  148.691452  \n",
      "37         NaN  132.967783  135.987755  130.858765  134.096558  \n",
      "38         NaN  131.819218  132.571729  130.185454  131.452850  \n",
      "39         NaN  145.582347  147.107193  143.473314  144.701111  \n",
      "40         NaN  145.582347  147.107193  143.473314  144.701111  \n",
      "41         NaN  145.582347  147.107193  143.473314  144.701111  \n",
      "42         NaN  145.404130  145.909103  138.522547  139.433502  \n",
      "43         NaN  167.001560  169.591953  164.035456  164.539688  \n",
      "44         NaN  169.226115  171.401255  167.930918  170.195038  \n",
      "45         NaN  175.830647  176.018503  172.429512  172.637146  \n",
      "46         NaN  176.532630  177.580651  174.703526  175.761444  \n",
      "47         NaN  169.127255  172.172458  168.286868  172.103256  \n",
      "48         NaN  157.025561  161.039686  154.039678  155.661148  \n",
      "49         NaN  141.442313  144.784866  141.156378  144.498932  \n"
     ]
    }
   ],
   "source": [
    "import pandas as pd\n",
    "import os\n",
    "print(os.listdir())\n",
    "path='C:/Users/anand/OneDrive/Desktop/Stocks/APPLE DATA PChange_csv.csv'\n",
    "filename=path\n",
    "df = pd.read_csv(filename)\n",
    "print(df)"
   ]
  },
  {
   "cell_type": "code",
   "execution_count": 80,
   "id": "4c5a1c95",
   "metadata": {},
   "outputs": [
    {
     "data": {
      "text/html": [
       "<div>\n",
       "<style scoped>\n",
       "    .dataframe tbody tr th:only-of-type {\n",
       "        vertical-align: middle;\n",
       "    }\n",
       "\n",
       "    .dataframe tbody tr th {\n",
       "        vertical-align: top;\n",
       "    }\n",
       "\n",
       "    .dataframe thead th {\n",
       "        text-align: right;\n",
       "    }\n",
       "</style>\n",
       "<table border=\"1\" class=\"dataframe\">\n",
       "  <thead>\n",
       "    <tr style=\"text-align: right;\">\n",
       "      <th></th>\n",
       "      <th>ARTICLE NAME</th>\n",
       "      <th>DATE PUBLISHED</th>\n",
       "      <th>Date</th>\n",
       "      <th>POSITIVE</th>\n",
       "      <th>NEGATIVE</th>\n",
       "      <th>SENTIMENTAL ANALYSIS NEUTRAL</th>\n",
       "      <th>Overall Sentiment</th>\n",
       "      <th>Percentage</th>\n",
       "      <th>Amount</th>\n",
       "      <th>Unnamed: 9</th>\n",
       "      <th>Open</th>\n",
       "      <th>High</th>\n",
       "      <th>Low</th>\n",
       "      <th>Close</th>\n",
       "    </tr>\n",
       "  </thead>\n",
       "  <tbody>\n",
       "    <tr>\n",
       "      <th>0</th>\n",
       "      <td>Apple to expand repair options with support fo...</td>\n",
       "      <td>04-11-2024</td>\n",
       "      <td>2024-04-11 00:00:00-04:00</td>\n",
       "      <td>0.10</td>\n",
       "      <td>0.04</td>\n",
       "      <td>0.86</td>\n",
       "      <td>Positive</td>\n",
       "      <td>0.86%</td>\n",
       "      <td>1.510010</td>\n",
       "      <td>NaN</td>\n",
       "      <td>168.339996</td>\n",
       "      <td>175.460007</td>\n",
       "      <td>168.160004</td>\n",
       "      <td>175.039993</td>\n",
       "    </tr>\n",
       "    <tr>\n",
       "      <th>1</th>\n",
       "      <td>Apple Vision Pro unlocks new opportunities for...</td>\n",
       "      <td>03-11-2024</td>\n",
       "      <td>2024-03-11 00:00:00-04:00</td>\n",
       "      <td>0.20</td>\n",
       "      <td>0.01</td>\n",
       "      <td>0.79</td>\n",
       "      <td>Positive</td>\n",
       "      <td>0.28%</td>\n",
       "      <td>0.479996</td>\n",
       "      <td>NaN</td>\n",
       "      <td>172.940002</td>\n",
       "      <td>174.380005</td>\n",
       "      <td>172.050003</td>\n",
       "      <td>172.750000</td>\n",
       "    </tr>\n",
       "    <tr>\n",
       "      <th>2</th>\n",
       "      <td>Apple unveils 2024 Black Unity Collection supp...</td>\n",
       "      <td>17-01-2024</td>\n",
       "      <td>2024-01-17 00:00:00-05:00</td>\n",
       "      <td>0.14</td>\n",
       "      <td>0.01</td>\n",
       "      <td>0.85</td>\n",
       "      <td>Positive</td>\n",
       "      <td>3.26%</td>\n",
       "      <td>5.942429</td>\n",
       "      <td>NaN</td>\n",
       "      <td>181.038998</td>\n",
       "      <td>182.696871</td>\n",
       "      <td>180.070233</td>\n",
       "      <td>182.447189</td>\n",
       "    </tr>\n",
       "    <tr>\n",
       "      <th>3</th>\n",
       "      <td>Apple previews new entertainment experiences l...</td>\n",
       "      <td>16-01-2024</td>\n",
       "      <td>2024-01-16 00:00:00-05:00</td>\n",
       "      <td>0.12</td>\n",
       "      <td>0.01</td>\n",
       "      <td>0.87</td>\n",
       "      <td>Positive</td>\n",
       "      <td>-0.52%</td>\n",
       "      <td>-0.948792</td>\n",
       "      <td>NaN</td>\n",
       "      <td>181.927853</td>\n",
       "      <td>184.025168</td>\n",
       "      <td>180.699410</td>\n",
       "      <td>183.395981</td>\n",
       "    </tr>\n",
       "    <tr>\n",
       "      <th>4</th>\n",
       "      <td>Apple unveils the new MacBook Pro featuring th...</td>\n",
       "      <td>30-10-2023</td>\n",
       "      <td>2023-10-30 00:00:00-04:00</td>\n",
       "      <td>0.12</td>\n",
       "      <td>0.01</td>\n",
       "      <td>0.86</td>\n",
       "      <td>Positive</td>\n",
       "      <td>0.28%</td>\n",
       "      <td>0.478775</td>\n",
       "      <td>NaN</td>\n",
       "      <td>168.582496</td>\n",
       "      <td>170.726924</td>\n",
       "      <td>168.432875</td>\n",
       "      <td>169.849197</td>\n",
       "    </tr>\n",
       "    <tr>\n",
       "      <th>5</th>\n",
       "      <td>Apple Watch double tap gesture now available w...</td>\n",
       "      <td>25-10-2023</td>\n",
       "      <td>2023-10-25 00:00:00-04:00</td>\n",
       "      <td>0.07</td>\n",
       "      <td>0.02</td>\n",
       "      <td>0.91</td>\n",
       "      <td>Positive</td>\n",
       "      <td>-2.46%</td>\n",
       "      <td>-4.199112</td>\n",
       "      <td>NaN</td>\n",
       "      <td>171.435115</td>\n",
       "      <td>172.612053</td>\n",
       "      <td>170.208288</td>\n",
       "      <td>170.657135</td>\n",
       "    </tr>\n",
       "    <tr>\n",
       "      <th>6</th>\n",
       "      <td>Apple unveils Apple Watch Ultra 2</td>\n",
       "      <td>09-12-2023</td>\n",
       "      <td>2023-09-12 00:00:00-04:00</td>\n",
       "      <td>0.11</td>\n",
       "      <td>0.02</td>\n",
       "      <td>0.88</td>\n",
       "      <td>Positive</td>\n",
       "      <td>-1.19%</td>\n",
       "      <td>-2.084595</td>\n",
       "      <td>NaN</td>\n",
       "      <td>179.025404</td>\n",
       "      <td>179.663747</td>\n",
       "      <td>174.367494</td>\n",
       "      <td>175.843658</td>\n",
       "    </tr>\n",
       "    <tr>\n",
       "      <th>7</th>\n",
       "      <td>Apple Card’s Savings account by Goldman Sachs ...</td>\n",
       "      <td>08-02-2023</td>\n",
       "      <td>2023-08-02 00:00:00-04:00</td>\n",
       "      <td>0.12</td>\n",
       "      <td>0.02</td>\n",
       "      <td>0.86</td>\n",
       "      <td>Positive</td>\n",
       "      <td>-0.73%</td>\n",
       "      <td>-1.404465</td>\n",
       "      <td>NaN</td>\n",
       "      <td>194.272810</td>\n",
       "      <td>194.412258</td>\n",
       "      <td>191.095370</td>\n",
       "      <td>191.822495</td>\n",
       "    </tr>\n",
       "    <tr>\n",
       "      <th>8</th>\n",
       "      <td>Pixar, Adobe, Apple, Autodesk, and NVIDIA form...</td>\n",
       "      <td>08-01-2023</td>\n",
       "      <td>2023-08-01 00:00:00-04:00</td>\n",
       "      <td>0.13</td>\n",
       "      <td>0.00</td>\n",
       "      <td>0.86</td>\n",
       "      <td>Positive</td>\n",
       "      <td>-1.55%</td>\n",
       "      <td>-3.018082</td>\n",
       "      <td>NaN</td>\n",
       "      <td>195.468088</td>\n",
       "      <td>195.956151</td>\n",
       "      <td>194.511857</td>\n",
       "      <td>194.840561</td>\n",
       "    </tr>\n",
       "    <tr>\n",
       "      <th>9</th>\n",
       "      <td>iOS 17 makes iPhone more personal and intuitive</td>\n",
       "      <td>06-05-2023</td>\n",
       "      <td>2023-06-05 00:00:00-04:00</td>\n",
       "      <td>0.15</td>\n",
       "      <td>0.02</td>\n",
       "      <td>0.83</td>\n",
       "      <td>Positive</td>\n",
       "      <td>-0.21%</td>\n",
       "      <td>-0.368530</td>\n",
       "      <td>NaN</td>\n",
       "      <td>181.911617</td>\n",
       "      <td>184.222483</td>\n",
       "      <td>177.339661</td>\n",
       "      <td>178.873612</td>\n",
       "    </tr>\n",
       "  </tbody>\n",
       "</table>\n",
       "</div>"
      ],
      "text/plain": [
       "                                        ARTICLE NAME DATE PUBLISHED  \\\n",
       "0  Apple to expand repair options with support fo...     04-11-2024   \n",
       "1  Apple Vision Pro unlocks new opportunities for...     03-11-2024   \n",
       "2  Apple unveils 2024 Black Unity Collection supp...     17-01-2024   \n",
       "3  Apple previews new entertainment experiences l...     16-01-2024   \n",
       "4  Apple unveils the new MacBook Pro featuring th...     30-10-2023   \n",
       "5  Apple Watch double tap gesture now available w...     25-10-2023   \n",
       "6                  Apple unveils Apple Watch Ultra 2     09-12-2023   \n",
       "7  Apple Card’s Savings account by Goldman Sachs ...     08-02-2023   \n",
       "8  Pixar, Adobe, Apple, Autodesk, and NVIDIA form...     08-01-2023   \n",
       "9    iOS 17 makes iPhone more personal and intuitive     06-05-2023   \n",
       "\n",
       "                        Date  POSITIVE   NEGATIVE  \\\n",
       "0  2024-04-11 00:00:00-04:00      0.10       0.04   \n",
       "1  2024-03-11 00:00:00-04:00      0.20       0.01   \n",
       "2  2024-01-17 00:00:00-05:00      0.14       0.01   \n",
       "3  2024-01-16 00:00:00-05:00      0.12       0.01   \n",
       "4  2023-10-30 00:00:00-04:00      0.12       0.01   \n",
       "5  2023-10-25 00:00:00-04:00      0.07       0.02   \n",
       "6  2023-09-12 00:00:00-04:00      0.11       0.02   \n",
       "7  2023-08-02 00:00:00-04:00      0.12       0.02   \n",
       "8  2023-08-01 00:00:00-04:00      0.13       0.00   \n",
       "9  2023-06-05 00:00:00-04:00      0.15       0.02   \n",
       "\n",
       "   SENTIMENTAL ANALYSIS NEUTRAL Overall Sentiment  Percentage    Amount  \\\n",
       "0                          0.86           Positive      0.86%  1.510010   \n",
       "1                          0.79           Positive      0.28%  0.479996   \n",
       "2                          0.85           Positive      3.26%  5.942429   \n",
       "3                          0.87           Positive     -0.52% -0.948792   \n",
       "4                          0.86           Positive      0.28%  0.478775   \n",
       "5                          0.91           Positive     -2.46% -4.199112   \n",
       "6                          0.88           Positive     -1.19% -2.084595   \n",
       "7                          0.86           Positive     -0.73% -1.404465   \n",
       "8                          0.86           Positive     -1.55% -3.018082   \n",
       "9                          0.83           Positive     -0.21% -0.368530   \n",
       "\n",
       "   Unnamed: 9        Open        High         Low       Close  \n",
       "0         NaN  168.339996  175.460007  168.160004  175.039993  \n",
       "1         NaN  172.940002  174.380005  172.050003  172.750000  \n",
       "2         NaN  181.038998  182.696871  180.070233  182.447189  \n",
       "3         NaN  181.927853  184.025168  180.699410  183.395981  \n",
       "4         NaN  168.582496  170.726924  168.432875  169.849197  \n",
       "5         NaN  171.435115  172.612053  170.208288  170.657135  \n",
       "6         NaN  179.025404  179.663747  174.367494  175.843658  \n",
       "7         NaN  194.272810  194.412258  191.095370  191.822495  \n",
       "8         NaN  195.468088  195.956151  194.511857  194.840561  \n",
       "9         NaN  181.911617  184.222483  177.339661  178.873612  "
      ]
     },
     "execution_count": 80,
     "metadata": {},
     "output_type": "execute_result"
    }
   ],
   "source": [
    "import numpy as np\n",
    "#Replace '?' with 'NaN'\n",
    "df.replace('?',np.nan, inplace = True)\n",
    "df.head(10)"
   ]
  },
  {
   "cell_type": "code",
   "execution_count": 81,
   "id": "d907201a",
   "metadata": {},
   "outputs": [
    {
     "name": "stdout",
     "output_type": "stream",
     "text": [
      "                                             ARTICLE NAME DATE PUBLISHED  \\\n",
      "count                                                  50             50   \n",
      "unique                                                 50             47   \n",
      "top     Apple to expand repair options with support fo...     06-06-2022   \n",
      "freq                                                    1              3   \n",
      "mean                                                  NaN            NaN   \n",
      "std                                                   NaN            NaN   \n",
      "min                                                   NaN            NaN   \n",
      "25%                                                   NaN            NaN   \n",
      "50%                                                   NaN            NaN   \n",
      "75%                                                   NaN            NaN   \n",
      "max                                                   NaN            NaN   \n",
      "\n",
      "                             Date   POSITIVE   NEGATIVE  \\\n",
      "count                          50  50.000000  50.000000   \n",
      "unique                         47        NaN        NaN   \n",
      "top     2022-06-06 00:00:00-04:00        NaN        NaN   \n",
      "freq                            3        NaN        NaN   \n",
      "mean                          NaN   0.136200   0.013600   \n",
      "std                           NaN   0.089143   0.013667   \n",
      "min                           NaN   0.050000   0.000000   \n",
      "25%                           NaN   0.100000   0.010000   \n",
      "50%                           NaN   0.120000   0.010000   \n",
      "75%                           NaN   0.150000   0.020000   \n",
      "max                           NaN   0.700000   0.070000   \n",
      "\n",
      "        SENTIMENTAL ANALYSIS NEUTRAL Overall Sentiment  Percentage     Amount  \\\n",
      "count                      50.000000                 50         50  50.000000   \n",
      "unique                           NaN                  1         43        NaN   \n",
      "top                              NaN           Positive      1.76%        NaN   \n",
      "freq                             NaN                 50          3        NaN   \n",
      "mean                        0.831400                NaN        NaN  -0.437357   \n",
      "std                         0.166243                NaN        NaN   3.414022   \n",
      "min                         0.040000                NaN        NaN  -9.508774   \n",
      "25%                         0.840000                NaN        NaN  -2.830536   \n",
      "50%                         0.860000                NaN        NaN  -0.262337   \n",
      "75%                         0.890000                NaN        NaN   2.307789   \n",
      "max                         0.940000                NaN        NaN   5.942429   \n",
      "\n",
      "        Unnamed: 9        Open        High         Low       Close  \n",
      "count          0.0   50.000000   50.000000   50.000000   50.000000  \n",
      "unique         NaN         NaN         NaN         NaN         NaN  \n",
      "top            NaN         NaN         NaN         NaN         NaN  \n",
      "freq           NaN         NaN         NaN         NaN         NaN  \n",
      "mean           NaN  160.709563  162.695893  158.745926  160.680870  \n",
      "std            NaN   15.862648   15.445078   15.980216   15.584628  \n",
      "min            NaN  131.819218  132.571729  130.185454  131.452850  \n",
      "25%            NaN  146.379496  149.061771  144.183258  146.323536  \n",
      "50%            NaN  161.378607  163.635547  160.582859  162.468094  \n",
      "75%            NaN  172.031370  173.086468  170.668261  172.257969  \n",
      "max            NaN  195.468088  195.956151  194.511857  194.840561  \n"
     ]
    }
   ],
   "source": [
    "print(df.describe(include='all'))"
   ]
  },
  {
   "cell_type": "code",
   "execution_count": 82,
   "id": "8460e73a",
   "metadata": {},
   "outputs": [
    {
     "name": "stdout",
     "output_type": "stream",
     "text": [
      "<class 'pandas.core.frame.DataFrame'>\n",
      "RangeIndex: 50 entries, 0 to 49\n",
      "Data columns (total 14 columns):\n",
      " #   Column                        Non-Null Count  Dtype  \n",
      "---  ------                        --------------  -----  \n",
      " 0   ARTICLE NAME                  50 non-null     object \n",
      " 1   DATE PUBLISHED                50 non-null     object \n",
      " 2   Date                          50 non-null     object \n",
      " 3   POSITIVE                      50 non-null     float64\n",
      " 4    NEGATIVE                     50 non-null     float64\n",
      " 5   SENTIMENTAL ANALYSIS NEUTRAL  50 non-null     float64\n",
      " 6   Overall Sentiment             50 non-null     object \n",
      " 7   Percentage                    50 non-null     object \n",
      " 8   Amount                        50 non-null     float64\n",
      " 9   Unnamed: 9                    0 non-null      float64\n",
      " 10  Open                          50 non-null     float64\n",
      " 11  High                          50 non-null     float64\n",
      " 12  Low                           50 non-null     float64\n",
      " 13  Close                         50 non-null     float64\n",
      "dtypes: float64(9), object(5)\n",
      "memory usage: 5.6+ KB\n",
      "None\n"
     ]
    }
   ],
   "source": [
    "print(df.info())"
   ]
  },
  {
   "cell_type": "code",
   "execution_count": 83,
   "id": "2106853c",
   "metadata": {},
   "outputs": [
    {
     "name": "stdout",
     "output_type": "stream",
     "text": [
      "ARTICLE NAME\n",
      "ARTICLE NAME\n",
      "False    50\n",
      "Name: count, dtype: int64\n",
      "\n",
      "DATE PUBLISHED\n",
      "DATE PUBLISHED\n",
      "False    50\n",
      "Name: count, dtype: int64\n",
      "\n",
      "Date\n",
      "Date\n",
      "False    50\n",
      "Name: count, dtype: int64\n",
      "\n",
      "POSITIVE\n",
      "POSITIVE\n",
      "False    50\n",
      "Name: count, dtype: int64\n",
      "\n",
      " NEGATIVE\n",
      " NEGATIVE\n",
      "False    50\n",
      "Name: count, dtype: int64\n",
      "\n",
      "SENTIMENTAL ANALYSIS NEUTRAL\n",
      "SENTIMENTAL ANALYSIS NEUTRAL\n",
      "False    50\n",
      "Name: count, dtype: int64\n",
      "\n",
      "Overall Sentiment \n",
      "Overall Sentiment \n",
      "False    50\n",
      "Name: count, dtype: int64\n",
      "\n",
      "Percentage\n",
      "Percentage\n",
      "False    50\n",
      "Name: count, dtype: int64\n",
      "\n",
      "Amount\n",
      "Amount\n",
      "False    50\n",
      "Name: count, dtype: int64\n",
      "\n",
      "Unnamed: 9\n",
      "Unnamed: 9\n",
      "True    50\n",
      "Name: count, dtype: int64\n",
      "\n",
      "Open\n",
      "Open\n",
      "False    50\n",
      "Name: count, dtype: int64\n",
      "\n",
      "High\n",
      "High\n",
      "False    50\n",
      "Name: count, dtype: int64\n",
      "\n",
      "Low\n",
      "Low\n",
      "False    50\n",
      "Name: count, dtype: int64\n",
      "\n",
      "Close\n",
      "Close\n",
      "False    50\n",
      "Name: count, dtype: int64\n",
      "\n"
     ]
    }
   ],
   "source": [
    "#Count missing values in each column\n",
    "missing_data = df.isnull()\n",
    "missing_data.head(5)\n",
    "#Using a for loop in Python, you can quickly figure out the number of missing values in each column. As mentioned above, \"True\" represents a missing value and \"False\" means the value is present in the data set. In the body of the for loop the method \".value_counts()\" counts the number of \"True\" values.\n",
    "for column in missing_data.columns.values.tolist():\n",
    "    print(column)\n",
    "    print (missing_data[column].value_counts())\n",
    "    print(\"\")"
   ]
  },
  {
   "cell_type": "code",
   "execution_count": 84,
   "id": "7219002e",
   "metadata": {},
   "outputs": [
    {
     "name": "stdout",
     "output_type": "stream",
     "text": [
      "Index(['ARTICLE NAME', 'DATE PUBLISHED', 'Date', 'POSITIVE', ' NEGATIVE',\n",
      "       'SENTIMENTAL ANALYSIS NEUTRAL', 'Overall Sentiment ', 'Percentage',\n",
      "       'Amount', 'Unnamed: 9', 'Open', 'High', 'Low', 'Close'],\n",
      "      dtype='object')\n"
     ]
    }
   ],
   "source": [
    "# Print the column names to verify\n",
    "print(df.columns)"
   ]
  },
  {
   "cell_type": "code",
   "execution_count": 85,
   "id": "5c276877",
   "metadata": {},
   "outputs": [],
   "source": [
    "import pandas as pd\n",
    "\n",
    "# Remove the '%' symbol and convert to float\n",
    "df['Percentage'] = df['Percentage'].str.replace('%', '').astype(float)"
   ]
  },
  {
   "cell_type": "code",
   "execution_count": 86,
   "id": "58158bd0",
   "metadata": {},
   "outputs": [
    {
     "data": {
      "text/html": [
       "<div>\n",
       "<style scoped>\n",
       "    .dataframe tbody tr th:only-of-type {\n",
       "        vertical-align: middle;\n",
       "    }\n",
       "\n",
       "    .dataframe tbody tr th {\n",
       "        vertical-align: top;\n",
       "    }\n",
       "\n",
       "    .dataframe thead th {\n",
       "        text-align: right;\n",
       "    }\n",
       "</style>\n",
       "<table border=\"1\" class=\"dataframe\">\n",
       "  <thead>\n",
       "    <tr style=\"text-align: right;\">\n",
       "      <th></th>\n",
       "      <th>POSITIVE</th>\n",
       "      <th>NEGATIVE</th>\n",
       "      <th>SENTIMENTAL ANALYSIS NEUTRAL</th>\n",
       "      <th>Percentage</th>\n",
       "      <th>Amount</th>\n",
       "    </tr>\n",
       "  </thead>\n",
       "  <tbody>\n",
       "    <tr>\n",
       "      <th>POSITIVE</th>\n",
       "      <td>1.000000</td>\n",
       "      <td>-0.018695</td>\n",
       "      <td>-0.053755</td>\n",
       "      <td>-0.013755</td>\n",
       "      <td>-0.009764</td>\n",
       "    </tr>\n",
       "    <tr>\n",
       "      <th>NEGATIVE</th>\n",
       "      <td>-0.018695</td>\n",
       "      <td>1.000000</td>\n",
       "      <td>-0.054362</td>\n",
       "      <td>0.065783</td>\n",
       "      <td>0.066206</td>\n",
       "    </tr>\n",
       "    <tr>\n",
       "      <th>SENTIMENTAL ANALYSIS NEUTRAL</th>\n",
       "      <td>-0.053755</td>\n",
       "      <td>-0.054362</td>\n",
       "      <td>1.000000</td>\n",
       "      <td>-0.028344</td>\n",
       "      <td>-0.049122</td>\n",
       "    </tr>\n",
       "    <tr>\n",
       "      <th>Percentage</th>\n",
       "      <td>-0.013755</td>\n",
       "      <td>0.065783</td>\n",
       "      <td>-0.028344</td>\n",
       "      <td>1.000000</td>\n",
       "      <td>0.996112</td>\n",
       "    </tr>\n",
       "    <tr>\n",
       "      <th>Amount</th>\n",
       "      <td>-0.009764</td>\n",
       "      <td>0.066206</td>\n",
       "      <td>-0.049122</td>\n",
       "      <td>0.996112</td>\n",
       "      <td>1.000000</td>\n",
       "    </tr>\n",
       "  </tbody>\n",
       "</table>\n",
       "</div>"
      ],
      "text/plain": [
       "                              POSITIVE   NEGATIVE  \\\n",
       "POSITIVE                      1.000000  -0.018695   \n",
       " NEGATIVE                    -0.018695   1.000000   \n",
       "SENTIMENTAL ANALYSIS NEUTRAL -0.053755  -0.054362   \n",
       "Percentage                   -0.013755   0.065783   \n",
       "Amount                       -0.009764   0.066206   \n",
       "\n",
       "                              SENTIMENTAL ANALYSIS NEUTRAL  Percentage  \\\n",
       "POSITIVE                                         -0.053755   -0.013755   \n",
       " NEGATIVE                                        -0.054362    0.065783   \n",
       "SENTIMENTAL ANALYSIS NEUTRAL                      1.000000   -0.028344   \n",
       "Percentage                                       -0.028344    1.000000   \n",
       "Amount                                           -0.049122    0.996112   \n",
       "\n",
       "                                Amount  \n",
       "POSITIVE                     -0.009764  \n",
       " NEGATIVE                     0.066206  \n",
       "SENTIMENTAL ANALYSIS NEUTRAL -0.049122  \n",
       "Percentage                    0.996112  \n",
       "Amount                        1.000000  "
      ]
     },
     "execution_count": 86,
     "metadata": {},
     "output_type": "execute_result"
    }
   ],
   "source": [
    "df[['POSITIVE', ' NEGATIVE', 'SENTIMENTAL ANALYSIS NEUTRAL', 'Percentage', 'Amount']].corr()"
   ]
  },
  {
   "cell_type": "code",
   "execution_count": 87,
   "id": "fd37fc42",
   "metadata": {},
   "outputs": [
    {
     "data": {
      "text/plain": [
       "<Axes: xlabel='POSITIVE', ylabel='Percentage'>"
      ]
     },
     "execution_count": 87,
     "metadata": {},
     "output_type": "execute_result"
    },
    {
     "data": {
      "image/png": "[encoded data removed]",
      "text/plain": [
       "<Figure size 640x480 with 1 Axes>"
      ]
     },
     "metadata": {},
     "output_type": "display_data"
    }
   ],
   "source": [
    "import seaborn as sns\n",
    "sns.regplot(x=\"POSITIVE\", y=\"Percentage\", data=df)"
   ]
  },
  {
   "cell_type": "code",
   "execution_count": 88,
   "id": "8e0ac7d1",
   "metadata": {},
   "outputs": [
    {
     "name": "stdout",
     "output_type": "stream",
     "text": [
      "Index(['ARTICLE NAME', 'DATE PUBLISHED', 'Date', 'POSITIVE', ' NEGATIVE',\n",
      "       'SENTIMENTAL ANALYSIS NEUTRAL', 'Overall Sentiment ', 'Percentage',\n",
      "       'Amount', 'Unnamed: 9', 'Open', 'High', 'Low', 'Close'],\n",
      "      dtype='object')\n"
     ]
    }
   ],
   "source": [
    "print(df.columns)"
   ]
  },
  {
   "cell_type": "code",
   "execution_count": 90,
   "id": "d1c117cf",
   "metadata": {},
   "outputs": [
    {
     "data": {
      "text/plain": [
       "<Axes: xlabel=' NEGATIVE', ylabel='Percentage'>"
      ]
     },
     "execution_count": 90,
     "metadata": {},
     "output_type": "execute_result"
    },
    {
     "data": {
      "image/png": "[encoded data removed]",
      "text/plain": [
       "<Figure size 640x480 with 1 Axes>"
      ]
     },
     "metadata": {},
     "output_type": "display_data"
    }
   ],
   "source": [
    "sns.regplot(x=\" NEGATIVE\", y=\"Percentage\", data=df)"
   ]
  },
  {
   "cell_type": "code",
   "execution_count": 91,
   "id": "71d5cb9d",
   "metadata": {},
   "outputs": [
    {
     "data": {
      "text/plain": [
       "<Axes: xlabel='SENTIMENTAL ANALYSIS NEUTRAL', ylabel='Percentage'>"
      ]
     },
     "execution_count": 91,
     "metadata": {},
     "output_type": "execute_result"
    },
    {
     "data": {
      "image/png": "[encoded data removed]",
      "text/plain": [
       "<Figure size 640x480 with 1 Axes>"
      ]
     },
     "metadata": {},
     "output_type": "display_data"
    }
   ],
   "source": [
    "sns.regplot(x=\"SENTIMENTAL ANALYSIS NEUTRAL\", y=\"Percentage\", data=df)"
   ]
  },
  {
   "cell_type": "code",
   "execution_count": 92,
   "id": "22d90e90",
   "metadata": {},
   "outputs": [
    {
     "data": {
      "text/plain": [
       "<Axes: xlabel='Amount', ylabel='Percentage'>"
      ]
     },
     "execution_count": 92,
     "metadata": {},
     "output_type": "execute_result"
    },
    {
     "data": {
      "image/png": "[encoded data removed]",
      "text/plain": [
       "<Figure size 640x480 with 1 Axes>"
      ]
     },
     "metadata": {},
     "output_type": "display_data"
    }
   ],
   "source": [
    "sns.regplot(x=\"Amount\", y=\"Percentage\", data=df)"
   ]
  },
  {
   "cell_type": "code",
   "execution_count": 93,
   "id": "023d0653",
   "metadata": {},
   "outputs": [
    {
     "data": {
      "text/plain": [
       "Percentage\n",
       " 1.76    3\n",
       " 0.28    2\n",
       "-2.46    2\n",
       "-1.19    2\n",
       " 1.93    2\n",
       "-0.21    2\n",
       " 0.86    1\n",
       " 3.42    1\n",
       "-1.27    1\n",
       " 0.96    1\n",
       "-5.87    1\n",
       "-0.96    1\n",
       "-3.77    1\n",
       "-0.14    1\n",
       "-3.97    1\n",
       "-2.06    1\n",
       "-3.22    1\n",
       " 2.01    1\n",
       "-2.78    1\n",
       "-0.17    1\n",
       "-1.78    1\n",
       " 0.37    1\n",
       " 3.50    1\n",
       "-3.67    1\n",
       "-4.24    1\n",
       " 0.08    1\n",
       "-3.05    1\n",
       " 3.26    1\n",
       "-0.52    1\n",
       "-0.73    1\n",
       "-1.55    1\n",
       " 0.48    1\n",
       " 1.41    1\n",
       " 0.16    1\n",
       " 1.37    1\n",
       " 1.04    1\n",
       " 2.84    1\n",
       "-0.98    1\n",
       "-0.76    1\n",
       "-1.49    1\n",
       " 0.29    1\n",
       " 3.71    1\n",
       " 1.51    1\n",
       "Name: count, dtype: int64"
      ]
     },
     "execution_count": 93,
     "metadata": {},
     "output_type": "execute_result"
    }
   ],
   "source": [
    "df['Percentage'].value_counts()"
   ]
  },
  {
   "cell_type": "code",
   "execution_count": 94,
   "id": "030eb9f4",
   "metadata": {},
   "outputs": [
    {
     "name": "stdout",
     "output_type": "stream",
     "text": [
      "The Pearson Correlation Coefficient is -0.009763835919713505 with a P-value of P = 0.9463460090932606\n"
     ]
    }
   ],
   "source": [
    "import pandas as pd\n",
    "import numpy as np\n",
    "import scipy.stats as stats\n",
    "\n",
    "# Load your data into a DataFrame\n",
    "filename=path\n",
    "dataframe = pd.read_csv(filename)\n",
    "\n",
    "\n",
    "\n",
    "# Calculate Pearson correlation coefficient and p-value\n",
    "pearson_coef, p_value = stats.pearsonr(dataframe['POSITIVE'], dataframe['Amount'])\n",
    "\n",
    "# Print the results\n",
    "print(\"The Pearson Correlation Coefficient is\", pearson_coef, \"with a P-value of P =\", p_value)\n"
   ]
  },
  {
   "cell_type": "code",
   "execution_count": 95,
   "id": "e72eb1ed",
   "metadata": {},
   "outputs": [
    {
     "name": "stdout",
     "output_type": "stream",
     "text": [
      "The Pearson Correlation Coefficient is 0.06620587698393537 with a P-value of P = 0.6478095969680684\n"
     ]
    }
   ],
   "source": [
    "# Calculate Pearson correlation coefficient and p-value\n",
    "pearson_coef, p_value = stats.pearsonr(dataframe[' NEGATIVE'], dataframe['Amount'])\n",
    "\n",
    "# Print the results\n",
    "print(\"The Pearson Correlation Coefficient is\", pearson_coef, \"with a P-value of P =\", p_value)"
   ]
  },
  {
   "cell_type": "code",
   "execution_count": 96,
   "id": "5475126f",
   "metadata": {},
   "outputs": [
    {
     "name": "stdout",
     "output_type": "stream",
     "text": [
      "The Pearson Correlation Coefficient is -0.04912177697720613 with a P-value of P = 0.7347884898632022\n"
     ]
    }
   ],
   "source": [
    "# Calculate Pearson correlation coefficient and p-value\n",
    "pearson_coef, p_value = stats.pearsonr(dataframe['SENTIMENTAL ANALYSIS NEUTRAL'], dataframe['Amount'])\n",
    "\n",
    "# Print the results\n",
    "print(\"The Pearson Correlation Coefficient is\", pearson_coef, \"with a P-value of P =\", p_value)"
   ]
  },
  {
   "cell_type": "code",
   "execution_count": 97,
   "id": "ba3767b2",
   "metadata": {},
   "outputs": [],
   "source": [
    "import pandas as pd\n",
    "import numpy as np\n",
    "import matplotlib.pyplot as plt\n",
    "import seaborn as sns\n",
    "from sklearn.linear_model import LinearRegression\n",
    "from sklearn.metrics import mean_squared_error, r2_score\n",
    "import warnings\n",
    "warnings.filterwarnings(\"ignore\", category=UserWarning) \n",
    "%matplotlib inline"
   ]
  },
  {
   "cell_type": "code",
   "execution_count": 98,
   "id": "9db3cef4",
   "metadata": {},
   "outputs": [],
   "source": [
    "import pandas as pd\n",
    "import numpy as np\n",
    "import scipy.stats as stats\n",
    "\n",
    "# Load your data into a DataFrame\n",
    "filename=path\n",
    "dataframe = pd.read_csv(filename)\n",
    "\n",
    "\n",
    "\n"
   ]
  },
  {
   "cell_type": "code",
   "execution_count": 99,
   "id": "f9f41907",
   "metadata": {},
   "outputs": [
    {
     "name": "stdout",
     "output_type": "stream",
     "text": [
      "(50, 1)\n"
     ]
    }
   ],
   "source": [
    "lm = LinearRegression()\n",
    "\n",
    "X = dataframe[['POSITIVE']]\n",
    "Y = dataframe['Amount']\n",
    "print(X.shape)\n",
    "lm.fit(X,Y)\n",
    "\n",
    "Yhat=lm.predict(X)"
   ]
  },
  {
   "cell_type": "code",
   "execution_count": 69,
   "id": "8fcf9fda",
   "metadata": {},
   "outputs": [
    {
     "name": "stderr",
     "output_type": "stream",
     "text": [
      "C:\\Users\\anand\\anaconda3\\Lib\\site-packages\\seaborn\\_oldcore.py:1119: FutureWarning: use_inf_as_na option is deprecated and will be removed in a future version. Convert inf values to NaN before operating instead.\n",
      "  with pd.option_context('mode.use_inf_as_na', True):\n",
      "C:\\Users\\anand\\anaconda3\\Lib\\site-packages\\seaborn\\_oldcore.py:1119: FutureWarning: use_inf_as_na option is deprecated and will be removed in a future version. Convert inf values to NaN before operating instead.\n",
      "  with pd.option_context('mode.use_inf_as_na', True):\n"
     ]
    },
    {
     "data": {
      "image/png": "[encoded data removed]",
      "text/plain": [
       "<Figure size 640x480 with 1 Axes>"
      ]
     },
     "metadata": {},
     "output_type": "display_data"
    }
   ],
   "source": [
    "df = df.replace([np.inf, -np.inf], np.nan)\n",
    "ax1 = sns.distplot(dataframe['Amount'], hist=False, color=\"r\", label=\"Actual Values\")\n",
    "\n",
    "# Create a distribution plot for predicted values\n",
    "sns.distplot(Yhat, hist=False, color=\"b\", label=\"Fitted Values\" , ax=ax1)\n",
    "\n",
    "plt.title('Actual vs Fitted Values for Price')\n",
    "plt.xlabel('Amount')\n",
    "plt.ylabel('POSITIVE')\n",
    "plt.legend(['Actual Value', 'Predicted Value'])\n",
    "plt.show()"
   ]
  },
  {
   "cell_type": "code",
   "execution_count": 100,
   "id": "eb158048",
   "metadata": {},
   "outputs": [],
   "source": [
    "lm = LinearRegression()\n",
    "\n",
    "X = dataframe[[' NEGATIVE']]\n",
    "Y = dataframe['Amount']\n",
    "\n",
    "lm.fit(X,Y)\n",
    "\n",
    "Yhat=lm.predict(X)"
   ]
  },
  {
   "cell_type": "code",
   "execution_count": 101,
   "id": "321baf6f",
   "metadata": {},
   "outputs": [
    {
     "name": "stderr",
     "output_type": "stream",
     "text": [
      "C:\\Users\\anand\\anaconda3\\Lib\\site-packages\\seaborn\\_oldcore.py:1119: FutureWarning: use_inf_as_na option is deprecated and will be removed in a future version. Convert inf values to NaN before operating instead.\n",
      "  with pd.option_context('mode.use_inf_as_na', True):\n",
      "C:\\Users\\anand\\anaconda3\\Lib\\site-packages\\seaborn\\_oldcore.py:1119: FutureWarning: use_inf_as_na option is deprecated and will be removed in a future version. Convert inf values to NaN before operating instead.\n",
      "  with pd.option_context('mode.use_inf_as_na', True):\n"
     ]
    },
    {
     "data": {
      "image/png": "[encoded data removed]",
      "text/plain": [
       "<Figure size 640x480 with 1 Axes>"
      ]
     },
     "metadata": {},
     "output_type": "display_data"
    }
   ],
   "source": [
    "ax1 = sns.distplot(dataframe['Amount'], hist=False, color=\"r\", label=\"Actual Values\")\n",
    "\n",
    "# Create a distribution plot for predicted values\n",
    "sns.distplot(Yhat, hist=False, color=\"b\", label=\"Fitted Values\" , ax=ax1)\n",
    "\n",
    "plt.title('Actual vs Fitted Values for Price')\n",
    "plt.xlabel('Amount in Dollars Change inMC ')\n",
    "plt.ylabel('Negative Sentiment Score')\n",
    "plt.legend(['Actual Value', 'Predicted Value'])\n",
    "plt.show()"
   ]
  },
  {
   "cell_type": "code",
   "execution_count": 104,
   "id": "828491c5",
   "metadata": {},
   "outputs": [],
   "source": [
    "lm = LinearRegression()\n",
    "\n",
    "X = dataframe[['SENTIMENTAL ANALYSIS NEUTRAL']]\n",
    "Y = dataframe['Amount']\n",
    "\n",
    "lm.fit(X,Y)\n",
    "\n",
    "Yhat=lm.predict(X)"
   ]
  },
  {
   "cell_type": "code",
   "execution_count": 105,
   "id": "fb24f459",
   "metadata": {},
   "outputs": [
    {
     "name": "stderr",
     "output_type": "stream",
     "text": [
      "C:\\Users\\anand\\anaconda3\\Lib\\site-packages\\seaborn\\_oldcore.py:1119: FutureWarning: use_inf_as_na option is deprecated and will be removed in a future version. Convert inf values to NaN before operating instead.\n",
      "  with pd.option_context('mode.use_inf_as_na', True):\n",
      "C:\\Users\\anand\\anaconda3\\Lib\\site-packages\\seaborn\\_oldcore.py:1119: FutureWarning: use_inf_as_na option is deprecated and will be removed in a future version. Convert inf values to NaN before operating instead.\n",
      "  with pd.option_context('mode.use_inf_as_na', True):\n"
     ]
    },
    {
     "data": {
      "image/png": "[encoded data removed]",
      "text/plain": [
       "<Figure size 640x480 with 1 Axes>"
      ]
     },
     "metadata": {},
     "output_type": "display_data"
    }
   ],
   "source": [
    "ax1 = sns.distplot(dataframe['Amount'], hist=False, color=\"r\", label=\"Actual Values\")\n",
    "\n",
    "# Create a distribution plot for predicted values\n",
    "sns.distplot(Yhat, hist=False, color=\"b\", label=\"Fitted Values\" , ax=ax1)\n",
    "\n",
    "plt.title('Actual vs Fitted Values for Price')\n",
    "plt.xlabel('Amount in Dollars Change inMC ')\n",
    "plt.ylabel('Neutral Sentiment Score')\n",
    "plt.legend(['Actual Value', 'Predicted Value'])\n",
    "plt.show()"
   ]
  },
  {
   "cell_type": "code",
   "execution_count": 106,
   "id": "ec687407",
   "metadata": {},
   "outputs": [
    {
     "name": "stdout",
     "output_type": "stream",
     "text": [
      "Index(['ARTICLE NAME', 'DATE PUBLISHED', 'Date', 'POSITIVE', ' NEGATIVE',\n",
      "       'SENTIMENTAL ANALYSIS NEUTRAL', 'Overall Sentiment ', 'Percentage',\n",
      "       'Amount', 'Unnamed: 9', 'Open', 'High', 'Low', 'Close'],\n",
      "      dtype='object')\n"
     ]
    }
   ],
   "source": [
    "print(dataframe.columns)"
   ]
  },
  {
   "cell_type": "code",
   "execution_count": null,
   "id": "9f0b0e9a-473d-452f-a620-621e2b080f43",
   "metadata": {},
   "outputs": [],
   "source": []
  }
 ],
 "metadata": {
  "kernelspec": {
   "display_name": "Python 3 (ipykernel)",
   "language": "python",
   "name": "python3"
  },
  "language_info": {
   "codemirror_mode": {
    "name": "ipython",
    "version": 3
   },
   "file_extension": ".py",
   "mimetype": "text/x-python",
   "name": "python",
   "nbconvert_exporter": "python",
   "pygments_lexer": "ipython3",
   "version": "3.11.7"
  }
 },
 "nbformat": 4,
 "nbformat_minor": 5
}
